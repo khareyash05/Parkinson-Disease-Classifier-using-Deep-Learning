{
  "nbformat": 4,
  "nbformat_minor": 0,
  "metadata": {
    "colab": {
      "provenance": [],
      "authorship_tag": "ABX9TyNbIdCVahO+cktpEujLbGE3",
      "include_colab_link": true
    },
    "kernelspec": {
      "name": "python3",
      "display_name": "Python 3"
    },
    "language_info": {
      "name": "python"
    }
  },
  "cells": [
    {
      "cell_type": "markdown",
      "metadata": {
        "id": "view-in-github",
        "colab_type": "text"
      },
      "source": [
        "<a href=\"https://colab.research.google.com/github/khareyash05/Parkinson-Disease-Classifier-using-Deep-Learning/blob/main/Transfer%20Learning.ipynb\" target=\"_parent\"><img src=\"https://colab.research.google.com/assets/colab-badge.svg\" alt=\"Open In Colab\"/></a>"
      ]
    },
    {
      "cell_type": "code",
      "execution_count": 84,
      "metadata": {
        "id": "03yrrIJYaBC9"
      },
      "outputs": [],
      "source": [
        "import tensorflow_hub as hub\n",
        "import tensorflow as tf\n",
        "import PIL.Image as Image\n",
        "import cv2\n",
        "import numpy as np\n",
        "from keras.preprocessing.image import ImageDataGenerator"
      ]
    },
    {
      "cell_type": "code",
      "source": [
        "train_datagen = ImageDataGenerator(rescale=1./255,\n",
        "                                        zoom_range=0.2,\n",
        "                                        horizontal_flip=True,\n",
        "                                        width_shift_range=0.3,\n",
        "                                        height_shift_range=0.3)\n",
        "x_train = train_datagen.flow_from_directory(\n",
        "        '/content/spiral/training',\n",
        "        target_size = (224,224),\n",
        "        # color_mode=\"grayscale\",\n",
        "        batch_size=4,\n",
        "        class_mode='binary'\n",
        "        )"
      ],
      "metadata": {
        "colab": {
          "base_uri": "https://localhost:8080/"
        },
        "id": "c0x4fCr5mLz_",
        "outputId": "569d7ed8-af42-4740-9dea-5820b46c6c17"
      },
      "execution_count": 85,
      "outputs": [
        {
          "output_type": "stream",
          "name": "stdout",
          "text": [
            "Found 77 images belonging to 2 classes.\n"
          ]
        }
      ]
    },
    {
      "cell_type": "code",
      "source": [
        "test_datagen = ImageDataGenerator(rescale=1./255)\n",
        "x_test = test_datagen.flow_from_directory(\n",
        "        '/content/spiral/testing',\n",
        "        target_size=(224,224),\n",
        "        batch_size=4,\n",
        "        # color_mode=\"grayscale\",\n",
        "        class_mode='binary')"
      ],
      "metadata": {
        "colab": {
          "base_uri": "https://localhost:8080/"
        },
        "id": "LkvKWbwHmfrE",
        "outputId": "40ff22f7-4435-4f01-8034-80ff63178144"
      },
      "execution_count": 86,
      "outputs": [
        {
          "output_type": "stream",
          "name": "stdout",
          "text": [
            "Found 30 images belonging to 2 classes.\n"
          ]
        }
      ]
    },
    {
      "cell_type": "code",
      "source": [
        "feature_extractor_model = \"https://tfhub.dev/google/tf2-preview/mobilenet_v2/feature_vector/4\"\n",
        "\n",
        "pretrained_model_without_top_layer = hub.KerasLayer(\n",
        "    feature_extractor_model, input_shape=(224,224,3), trainable=False)"
      ],
      "metadata": {
        "id": "6YIzy6hci_We"
      },
      "execution_count": 87,
      "outputs": []
    },
    {
      "cell_type": "code",
      "source": [
        "classes = 1\n",
        "\n",
        "model = tf.keras.Sequential([\n",
        "  pretrained_model_without_top_layer,\n",
        "  tf.keras.layers.Dense(classes)\n",
        "])\n",
        "\n",
        "model.summary()"
      ],
      "metadata": {
        "colab": {
          "base_uri": "https://localhost:8080/"
        },
        "id": "PPyNt0s-jKp9",
        "outputId": "744852f7-ff52-4450-cb0b-54a3c6fe2fff"
      },
      "execution_count": 88,
      "outputs": [
        {
          "output_type": "stream",
          "name": "stdout",
          "text": [
            "Model: \"sequential_9\"\n",
            "_________________________________________________________________\n",
            " Layer (type)                Output Shape              Param #   \n",
            "=================================================================\n",
            " keras_layer_9 (KerasLayer)  (None, 1280)              2257984   \n",
            "                                                                 \n",
            " dense_8 (Dense)             (None, 1)                 1281      \n",
            "                                                                 \n",
            "=================================================================\n",
            "Total params: 2,259,265\n",
            "Trainable params: 1,281\n",
            "Non-trainable params: 2,257,984\n",
            "_________________________________________________________________\n"
          ]
        }
      ]
    },
    {
      "cell_type": "code",
      "source": [
        "parkinson_labels_dict = {\n",
        "    'healthy': 0,\n",
        "    'parkinson': 1\n",
        "}\n",
        "parkinson_labels = [0,1]"
      ],
      "metadata": {
        "id": "Mhf3gOunj-uM"
      },
      "execution_count": 89,
      "outputs": []
    },
    {
      "cell_type": "code",
      "source": [
        "model.compile(\n",
        "  optimizer=\"adam\",\n",
        "  loss=tf.keras.losses.BinaryCrossentropy(from_logits=True),  \n",
        "  metrics=['acc'])\n",
        "\n",
        "history = model.fit(x_train,epochs=30)"
      ],
      "metadata": {
        "colab": {
          "base_uri": "https://localhost:8080/"
        },
        "id": "ClbIyEQGjsAj",
        "outputId": "67bd20db-421a-41be-89f4-bfa572bfb538"
      },
      "execution_count": 90,
      "outputs": [
        {
          "output_type": "stream",
          "name": "stdout",
          "text": [
            "Epoch 1/30\n",
            "20/20 [==============================] - 7s 152ms/step - loss: 0.7104 - acc: 0.5584\n",
            "Epoch 2/30\n",
            "20/20 [==============================] - 3s 150ms/step - loss: 0.6115 - acc: 0.5844\n",
            "Epoch 3/30\n",
            "20/20 [==============================] - 3s 150ms/step - loss: 0.5772 - acc: 0.7532\n",
            "Epoch 4/30\n",
            "20/20 [==============================] - 3s 148ms/step - loss: 0.5274 - acc: 0.6883\n",
            "Epoch 5/30\n",
            "20/20 [==============================] - 3s 150ms/step - loss: 0.4869 - acc: 0.7532\n",
            "Epoch 6/30\n",
            "20/20 [==============================] - 3s 150ms/step - loss: 0.4807 - acc: 0.7662\n",
            "Epoch 7/30\n",
            "20/20 [==============================] - 3s 152ms/step - loss: 0.4239 - acc: 0.7532\n",
            "Epoch 8/30\n",
            "20/20 [==============================] - 3s 150ms/step - loss: 0.4744 - acc: 0.7532\n",
            "Epoch 9/30\n",
            "20/20 [==============================] - 3s 152ms/step - loss: 0.4272 - acc: 0.7662\n",
            "Epoch 10/30\n",
            "20/20 [==============================] - 3s 153ms/step - loss: 0.4183 - acc: 0.7922\n",
            "Epoch 11/30\n",
            "20/20 [==============================] - 3s 160ms/step - loss: 0.4799 - acc: 0.7143\n",
            "Epoch 12/30\n",
            "20/20 [==============================] - 3s 152ms/step - loss: 0.4175 - acc: 0.7403\n",
            "Epoch 13/30\n",
            "20/20 [==============================] - 3s 151ms/step - loss: 0.4143 - acc: 0.7403\n",
            "Epoch 14/30\n",
            "20/20 [==============================] - 3s 151ms/step - loss: 0.3609 - acc: 0.8701\n",
            "Epoch 15/30\n",
            "20/20 [==============================] - 3s 154ms/step - loss: 0.4187 - acc: 0.7922\n",
            "Epoch 16/30\n",
            "20/20 [==============================] - 3s 149ms/step - loss: 0.3721 - acc: 0.7922\n",
            "Epoch 17/30\n",
            "20/20 [==============================] - 3s 152ms/step - loss: 0.3558 - acc: 0.8312\n",
            "Epoch 18/30\n",
            "20/20 [==============================] - 3s 150ms/step - loss: 0.4190 - acc: 0.8052\n",
            "Epoch 19/30\n",
            "20/20 [==============================] - 3s 154ms/step - loss: 0.4152 - acc: 0.7403\n",
            "Epoch 20/30\n",
            "20/20 [==============================] - 3s 152ms/step - loss: 0.3735 - acc: 0.8182\n",
            "Epoch 21/30\n",
            "20/20 [==============================] - 3s 159ms/step - loss: 0.4007 - acc: 0.7792\n",
            "Epoch 22/30\n",
            "20/20 [==============================] - 3s 152ms/step - loss: 0.3513 - acc: 0.8182\n",
            "Epoch 23/30\n",
            "20/20 [==============================] - 4s 200ms/step - loss: 0.3169 - acc: 0.8961\n",
            "Epoch 24/30\n",
            "20/20 [==============================] - 3s 153ms/step - loss: 0.3549 - acc: 0.8442\n",
            "Epoch 25/30\n",
            "20/20 [==============================] - 3s 160ms/step - loss: 0.3201 - acc: 0.8312\n",
            "Epoch 26/30\n",
            "20/20 [==============================] - 3s 149ms/step - loss: 0.3332 - acc: 0.8571\n",
            "Epoch 27/30\n",
            "20/20 [==============================] - 3s 155ms/step - loss: 0.3495 - acc: 0.8182\n",
            "Epoch 28/30\n",
            "20/20 [==============================] - 3s 152ms/step - loss: 0.3292 - acc: 0.8701\n",
            "Epoch 29/30\n",
            "20/20 [==============================] - 3s 151ms/step - loss: 0.3424 - acc: 0.8442\n",
            "Epoch 30/30\n",
            "20/20 [==============================] - 3s 152ms/step - loss: 0.2938 - acc: 0.8701\n"
          ]
        }
      ]
    },
    {
      "cell_type": "code",
      "source": [
        "import matplotlib.pyplot as plt\n",
        "loss_train = history.history['loss']\n",
        "loss_val = history.history['acc']\n",
        "epochs = range(1,31)\n",
        "plt.plot(epochs, loss_train, 'g', label='Loss')\n",
        "plt.plot(epochs, loss_val, 'b', label='Accuracy')\n",
        "plt.title('Loss vs Accuracy')\n",
        "plt.xlabel('Loss')\n",
        "plt.ylabel('Accuracy')\n",
        "plt.legend()\n",
        "plt.show()"
      ],
      "metadata": {
        "colab": {
          "base_uri": "https://localhost:8080/",
          "height": 295
        },
        "id": "pVTijLXzqGn7",
        "outputId": "5a8ffcbe-5ed7-41ca-f99b-04e920935abc"
      },
      "execution_count": 92,
      "outputs": [
        {
          "output_type": "display_data",
          "data": {
            "text/plain": [
              "<Figure size 432x288 with 1 Axes>"
            ],
            "image/png": "[encoded data removed]"
          },
          "metadata": {
            "needs_background": "light"
          }
        }
      ]
    },
    {
      "cell_type": "code",
      "source": [
        "model.evaluate(x_train)"
      ],
      "metadata": {
        "colab": {
          "base_uri": "https://localhost:8080/"
        },
        "id": "jtfiv9wqq2WC",
        "outputId": "f627cc22-027d-4a64-add5-16610d49b022"
      },
      "execution_count": 94,
      "outputs": [
        {
          "output_type": "stream",
          "name": "stdout",
          "text": [
            "20/20 [==============================] - 4s 158ms/step - loss: 0.2765 - acc: 0.8701\n"
          ]
        },
        {
          "output_type": "execute_result",
          "data": {
            "text/plain": [
              "[0.2764630615711212, 0.8701298832893372]"
            ]
          },
          "metadata": {},
          "execution_count": 94
        }
      ]
    }
  ]
}