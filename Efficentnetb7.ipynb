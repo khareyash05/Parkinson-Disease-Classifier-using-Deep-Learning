{
  "nbformat": 4,
  "nbformat_minor": 0,
  "metadata": {
    "colab": {
      "provenance": [],
      "authorship_tag": "ABX9TyNuhLy8KEG6uU7UcT18W6mC",
      "include_colab_link": true
    },
    "kernelspec": {
      "name": "python3",
      "display_name": "Python 3"
    },
    "language_info": {
      "name": "python"
    }
  },
  "cells": [
    {
      "cell_type": "markdown",
      "metadata": {
        "id": "view-in-github",
        "colab_type": "text"
      },
      "source": [
        "<a href=\"https://colab.research.google.com/github/khareyash05/Parkinson-Disease-Classifier-using-Deep-Learning/blob/main/Efficentnetb7.ipynb\" target=\"_parent\"><img src=\"https://colab.research.google.com/assets/colab-badge.svg\" alt=\"Open In Colab\"/></a>"
      ]
    },
    {
      "cell_type": "code",
      "execution_count": 99,
      "metadata": {
        "id": "03yrrIJYaBC9"
      },
      "outputs": [],
      "source": [
        "import tensorflow_hub as hub\n",
        "import tensorflow as tf\n",
        "import PIL.Image as Image\n",
        "import cv2\n",
        "import numpy as np\n",
        "from keras.preprocessing.image import ImageDataGenerator"
      ]
    },
    {
      "cell_type": "code",
      "source": [
        "train_datagen = ImageDataGenerator(rescale=1./255,\n",
        "                                        zoom_range=0.2,\n",
        "                                        horizontal_flip=True,\n",
        "                                        width_shift_range=0.3,\n",
        "                                        height_shift_range=0.3)\n",
        "x_train = train_datagen.flow_from_directory(\n",
        "        '/content/spiral/training',\n",
        "        target_size = (224,224),\n",
        "        # color_mode=\"grayscale\",\n",
        "        batch_size=4,\n",
        "        class_mode='binary'\n",
        "        )"
      ],
      "metadata": {
        "colab": {
          "base_uri": "https://localhost:8080/"
        },
        "id": "c0x4fCr5mLz_",
        "outputId": "fa332032-c91d-4d41-a7e5-e18434029c9a"
      },
      "execution_count": 100,
      "outputs": [
        {
          "output_type": "stream",
          "name": "stdout",
          "text": [
            "Found 77 images belonging to 2 classes.\n"
          ]
        }
      ]
    },
    {
      "cell_type": "code",
      "source": [
        "test_datagen = ImageDataGenerator(rescale=1./255)\n",
        "x_test = test_datagen.flow_from_directory(\n",
        "        '/content/spiral/testing',\n",
        "        target_size=(224,224),\n",
        "        batch_size=4,\n",
        "        # color_mode=\"grayscale\",\n",
        "        class_mode='binary')"
      ],
      "metadata": {
        "colab": {
          "base_uri": "https://localhost:8080/"
        },
        "id": "LkvKWbwHmfrE",
        "outputId": "d58c8a31-fd2b-4b50-e5eb-dd301bd6a2ee"
      },
      "execution_count": 101,
      "outputs": [
        {
          "output_type": "stream",
          "name": "stdout",
          "text": [
            "Found 30 images belonging to 2 classes.\n"
          ]
        }
      ]
    },
    {
      "cell_type": "code",
      "source": [
        "feature_extractor_model = \"https://tfhub.dev/google/efficientnet/b7/feature-vector/1\"\n",
        "\n",
        "pretrained_model_without_top_layer = hub.KerasLayer(\n",
        "    feature_extractor_model, input_shape=(224,224,3), trainable=False)"
      ],
      "metadata": {
        "id": "6YIzy6hci_We"
      },
      "execution_count": 102,
      "outputs": []
    },
    {
      "cell_type": "code",
      "source": [
        "classes = 1\n",
        "\n",
        "model = tf.keras.Sequential([\n",
        "  pretrained_model_without_top_layer,\n",
        "  tf.keras.layers.Dense(classes)\n",
        "])\n",
        "\n",
        "model.summary()"
      ],
      "metadata": {
        "colab": {
          "base_uri": "https://localhost:8080/"
        },
        "id": "PPyNt0s-jKp9",
        "outputId": "6afd454e-bbe8-49d2-e2bb-056f9b6c03c5"
      },
      "execution_count": 103,
      "outputs": [
        {
          "output_type": "stream",
          "name": "stdout",
          "text": [
            "Model: \"sequential_10\"\n",
            "_________________________________________________________________\n",
            " Layer (type)                Output Shape              Param #   \n",
            "=================================================================\n",
            " keras_layer_10 (KerasLayer)  (None, 2560)             64097680  \n",
            "                                                                 \n",
            " dense_9 (Dense)             (None, 1)                 2561      \n",
            "                                                                 \n",
            "=================================================================\n",
            "Total params: 64,100,241\n",
            "Trainable params: 2,561\n",
            "Non-trainable params: 64,097,680\n",
            "_________________________________________________________________\n"
          ]
        }
      ]
    },
    {
      "cell_type": "code",
      "source": [
        "parkinson_labels_dict = {\n",
        "    'healthy': 0,\n",
        "    'parkinson': 1\n",
        "}\n",
        "parkinson_labels = [0,1]"
      ],
      "metadata": {
        "id": "Mhf3gOunj-uM"
      },
      "execution_count": 104,
      "outputs": []
    },
    {
      "cell_type": "code",
      "source": [
        "model.compile(\n",
        "  optimizer=\"adam\",\n",
        "  loss=tf.keras.losses.BinaryCrossentropy(from_logits=True),  \n",
        "  metrics=['acc'])\n",
        "\n",
        "history = model.fit(x_train,epochs=30)"
      ],
      "metadata": {
        "colab": {
          "base_uri": "https://localhost:8080/"
        },
        "id": "ClbIyEQGjsAj",
        "outputId": "d2f16914-009c-45ab-8716-a7bd3aa0535f"
      },
      "execution_count": 105,
      "outputs": [
        {
          "output_type": "stream",
          "name": "stdout",
          "text": [
            "Epoch 1/30\n",
            "20/20 [==============================] - 50s 2s/step - loss: 0.7288 - acc: 0.4675\n",
            "Epoch 2/30\n",
            "20/20 [==============================] - 34s 2s/step - loss: 0.6029 - acc: 0.7273\n",
            "Epoch 3/30\n",
            "20/20 [==============================] - 33s 2s/step - loss: 0.5402 - acc: 0.7403\n",
            "Epoch 4/30\n",
            "20/20 [==============================] - 34s 2s/step - loss: 0.5111 - acc: 0.7532\n",
            "Epoch 5/30\n",
            "20/20 [==============================] - 33s 2s/step - loss: 0.4948 - acc: 0.7792\n",
            "Epoch 6/30\n",
            "20/20 [==============================] - 33s 2s/step - loss: 0.4685 - acc: 0.7792\n",
            "Epoch 7/30\n",
            "20/20 [==============================] - 33s 2s/step - loss: 0.4473 - acc: 0.8052\n",
            "Epoch 8/30\n",
            "20/20 [==============================] - 33s 2s/step - loss: 0.4824 - acc: 0.7273\n",
            "Epoch 9/30\n",
            "20/20 [==============================] - 33s 2s/step - loss: 0.4153 - acc: 0.8182\n",
            "Epoch 10/30\n",
            "20/20 [==============================] - 33s 2s/step - loss: 0.3925 - acc: 0.7792\n",
            "Epoch 11/30\n",
            "20/20 [==============================] - 33s 2s/step - loss: 0.3687 - acc: 0.8312\n",
            "Epoch 12/30\n",
            "20/20 [==============================] - 34s 2s/step - loss: 0.3642 - acc: 0.8701\n",
            "Epoch 13/30\n",
            "20/20 [==============================] - 32s 2s/step - loss: 0.4087 - acc: 0.8312\n",
            "Epoch 14/30\n",
            "20/20 [==============================] - 33s 2s/step - loss: 0.3861 - acc: 0.8052\n",
            "Epoch 15/30\n",
            "20/20 [==============================] - 33s 2s/step - loss: 0.4167 - acc: 0.7922\n",
            "Epoch 16/30\n",
            "20/20 [==============================] - 33s 2s/step - loss: 0.3822 - acc: 0.7922\n",
            "Epoch 17/30\n",
            "20/20 [==============================] - 34s 2s/step - loss: 0.3788 - acc: 0.8571\n",
            "Epoch 18/30\n",
            "20/20 [==============================] - 33s 2s/step - loss: 0.3896 - acc: 0.7792\n",
            "Epoch 19/30\n",
            "20/20 [==============================] - 33s 2s/step - loss: 0.3999 - acc: 0.8442\n",
            "Epoch 20/30\n",
            "20/20 [==============================] - 33s 2s/step - loss: 0.3908 - acc: 0.7922\n",
            "Epoch 21/30\n",
            "20/20 [==============================] - 34s 2s/step - loss: 0.3872 - acc: 0.8052\n",
            "Epoch 22/30\n",
            "20/20 [==============================] - 33s 2s/step - loss: 0.3547 - acc: 0.8182\n",
            "Epoch 23/30\n",
            "20/20 [==============================] - 32s 2s/step - loss: 0.3200 - acc: 0.8571\n",
            "Epoch 24/30\n",
            "20/20 [==============================] - 33s 2s/step - loss: 0.3221 - acc: 0.8701\n",
            "Epoch 25/30\n",
            "20/20 [==============================] - 33s 2s/step - loss: 0.3408 - acc: 0.7922\n",
            "Epoch 26/30\n",
            "20/20 [==============================] - 33s 2s/step - loss: 0.3489 - acc: 0.8182\n",
            "Epoch 27/30\n",
            "20/20 [==============================] - 33s 2s/step - loss: 0.3487 - acc: 0.8442\n",
            "Epoch 28/30\n",
            "20/20 [==============================] - 33s 2s/step - loss: 0.3271 - acc: 0.8312\n",
            "Epoch 29/30\n",
            "20/20 [==============================] - 34s 2s/step - loss: 0.3287 - acc: 0.8571\n",
            "Epoch 30/30\n",
            "20/20 [==============================] - 33s 2s/step - loss: 0.2934 - acc: 0.8701\n"
          ]
        }
      ]
    },
    {
      "cell_type": "code",
      "source": [
        "import matplotlib.pyplot as plt\n",
        "loss_train = history.history['loss']\n",
        "loss_val = history.history['acc']\n",
        "epochs = range(1,31)\n",
        "plt.plot(epochs, loss_train, 'g', label='Loss')\n",
        "plt.plot(epochs, loss_val, 'b', label='Accuracy')\n",
        "plt.title('Loss vs Accuracy')\n",
        "plt.xlabel('Loss')\n",
        "plt.ylabel('Accuracy')\n",
        "plt.legend()\n",
        "plt.show()"
      ],
      "metadata": {
        "colab": {
          "base_uri": "https://localhost:8080/",
          "height": 295
        },
        "id": "pVTijLXzqGn7",
        "outputId": "9ccab39e-09a4-4bb7-d82b-93a51e889a28"
      },
      "execution_count": 106,
      "outputs": [
        {
          "output_type": "display_data",
          "data": {
            "text/plain": [
              "<Figure size 432x288 with 1 Axes>"
            ],
            "image/png": "[encoded data removed]"
          },
          "metadata": {
            "needs_background": "light"
          }
        }
      ]
    },
    {
      "cell_type": "code",
      "source": [
        "model.evaluate(x_train)"
      ],
      "metadata": {
        "colab": {
          "base_uri": "https://localhost:8080/"
        },
        "id": "jtfiv9wqq2WC",
        "outputId": "554558b6-34c1-40c9-b74c-d57cef37af3e"
      },
      "execution_count": 107,
      "outputs": [
        {
          "output_type": "stream",
          "name": "stdout",
          "text": [
            "20/20 [==============================] - 36s 2s/step - loss: 0.2963 - acc: 0.8831\n"
          ]
        },
        {
          "output_type": "execute_result",
          "data": {
            "text/plain": [
              "[0.29633328318595886, 0.8831169009208679]"
            ]
          },
          "metadata": {},
          "execution_count": 107
        }
      ]
    }
  ]
}