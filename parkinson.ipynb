{
 "cells": [
  {
   "cell_type": "code",
   "execution_count": 50,
   "metadata": {},
   "outputs": [],
   "source": [
    "import tensorflow as tf\n",
    "from keras.preprocessing.image import ImageDataGenerator"
   ]
  },
  {
   "cell_type": "code",
   "execution_count": 51,
   "metadata": {},
   "outputs": [
    {
     "data": {
      "text/plain": [
       "'2.8.0'"
      ]
     },
     "execution_count": 51,
     "metadata": {},
     "output_type": "execute_result"
    }
   ],
   "source": [
    "tf.__version__"
   ]
  },
  {
   "cell_type": "code",
   "execution_count": 52,
   "metadata": {},
   "outputs": [
    {
     "name": "stdout",
     "output_type": "stream",
     "text": [
      "Found 72 images belonging to 2 classes.\n"
     ]
    }
   ],
   "source": [
    "train_datagen = ImageDataGenerator(rescale=1./255,\n",
    "                                      shear_range=0.2, \n",
    "                                        zoom_range=0.2,\n",
    "                                        horizontal_flip=True)\n",
    "train_set = train_datagen.flow_from_directory(\n",
    "        'dataset/train',\n",
    "        target_size = (32,32),\n",
    "        color_mode=\"grayscale\",\n",
    "        batch_size=4,\n",
    "        class_mode='binary'\n",
    "        )                                        "
   ]
  },
  {
   "cell_type": "code",
   "execution_count": 53,
   "metadata": {},
   "outputs": [
    {
     "name": "stdout",
     "output_type": "stream",
     "text": [
      "Found 30 images belonging to 2 classes.\n"
     ]
    }
   ],
   "source": [
    "test_datagen = ImageDataGenerator(rescale=1./255)\n",
    "test_set = test_datagen.flow_from_directory(\n",
    "        'dataset/test',\n",
    "        target_size=(32,32),\n",
    "        batch_size=4,\n",
    "        color_mode=\"grayscale\",\n",
    "        class_mode='binary')"
   ]
  },
  {
   "cell_type": "code",
   "execution_count": 54,
   "metadata": {},
   "outputs": [],
   "source": [
    "cnn = tf.keras.models.Sequential()"
   ]
  },
  {
   "cell_type": "code",
   "execution_count": 55,
   "metadata": {},
   "outputs": [],
   "source": [
    "cnn.add(tf.keras.layers.Conv2D(filters=64,kernel_size=5,activation=\"elu\",input_shape=[32,32,1]))"
   ]
  },
  {
   "cell_type": "code",
   "execution_count": 56,
   "metadata": {},
   "outputs": [],
   "source": [
    "cnn.add(tf.keras.layers.MaxPool2D(pool_size=2,strides=2))"
   ]
  },
  {
   "cell_type": "code",
   "execution_count": 57,
   "metadata": {},
   "outputs": [],
   "source": [
    "cnn.add(tf.keras.layers.Conv2D(filters=64,kernel_size=5,activation=\"elu\"))\n",
    "cnn.add(tf.keras.layers.MaxPool2D(pool_size=2,strides=2))"
   ]
  },
  {
   "cell_type": "code",
   "execution_count": 58,
   "metadata": {},
   "outputs": [],
   "source": [
    "cnn.add(tf.keras.layers.Flatten())"
   ]
  },
  {
   "cell_type": "code",
   "execution_count": 59,
   "metadata": {},
   "outputs": [],
   "source": [
    "cnn.add(tf.keras.layers.Dense(units=128,activation=\"elu\"))"
   ]
  },
  {
   "cell_type": "code",
   "execution_count": 60,
   "metadata": {},
   "outputs": [],
   "source": [
    "cnn.add(tf.keras.layers.Dense(units=1, activation='sigmoid'))"
   ]
  },
  {
   "cell_type": "code",
   "execution_count": 61,
   "metadata": {},
   "outputs": [],
   "source": [
    "cnn.compile(optimizer = 'adam', loss = 'binary_crossentropy', metrics = ['accuracy'])"
   ]
  },
  {
   "cell_type": "code",
   "execution_count": 62,
   "metadata": {},
   "outputs": [
    {
     "name": "stdout",
     "output_type": "stream",
     "text": [
      "Epoch 1/25\n",
      "18/18 [==============================] - 2s 54ms/step - loss: 1.1887 - accuracy: 0.4444 - val_loss: 0.6955 - val_accuracy: 0.5000\n",
      "Epoch 2/25\n",
      "18/18 [==============================] - 1s 36ms/step - loss: 0.7682 - accuracy: 0.3889 - val_loss: 0.6940 - val_accuracy: 0.5000\n",
      "Epoch 3/25\n",
      "18/18 [==============================] - 1s 35ms/step - loss: 0.6970 - accuracy: 0.5000 - val_loss: 0.6913 - val_accuracy: 0.5000\n",
      "Epoch 4/25\n",
      "18/18 [==============================] - 1s 37ms/step - loss: 0.7007 - accuracy: 0.4722 - val_loss: 0.6936 - val_accuracy: 0.4000\n",
      "Epoch 5/25\n",
      "18/18 [==============================] - 1s 35ms/step - loss: 0.6954 - accuracy: 0.5556 - val_loss: 0.6885 - val_accuracy: 0.6333\n",
      "Epoch 6/25\n",
      "18/18 [==============================] - 1s 38ms/step - loss: 0.7214 - accuracy: 0.4861 - val_loss: 0.6896 - val_accuracy: 0.5667\n",
      "Epoch 7/25\n",
      "18/18 [==============================] - 1s 34ms/step - loss: 0.6918 - accuracy: 0.5694 - val_loss: 0.6870 - val_accuracy: 0.5000\n",
      "Epoch 8/25\n",
      "18/18 [==============================] - 1s 35ms/step - loss: 0.6927 - accuracy: 0.6111 - val_loss: 0.6884 - val_accuracy: 0.5000\n",
      "Epoch 9/25\n",
      "18/18 [==============================] - 1s 33ms/step - loss: 0.6875 - accuracy: 0.5972 - val_loss: 0.6846 - val_accuracy: 0.5000\n",
      "Epoch 10/25\n",
      "18/18 [==============================] - 1s 36ms/step - loss: 0.6804 - accuracy: 0.5139 - val_loss: 0.6844 - val_accuracy: 0.6000\n",
      "Epoch 11/25\n",
      "18/18 [==============================] - 1s 36ms/step - loss: 0.6792 - accuracy: 0.5694 - val_loss: 0.6880 - val_accuracy: 0.5333\n",
      "Epoch 12/25\n",
      "18/18 [==============================] - 1s 34ms/step - loss: 0.6643 - accuracy: 0.6806 - val_loss: 0.6738 - val_accuracy: 0.7000\n",
      "Epoch 13/25\n",
      "18/18 [==============================] - 1s 35ms/step - loss: 0.6613 - accuracy: 0.6667 - val_loss: 0.6830 - val_accuracy: 0.5333\n",
      "Epoch 14/25\n",
      "18/18 [==============================] - 1s 39ms/step - loss: 0.6588 - accuracy: 0.7222 - val_loss: 0.6821 - val_accuracy: 0.5333\n",
      "Epoch 15/25\n",
      "18/18 [==============================] - 1s 34ms/step - loss: 0.6340 - accuracy: 0.7639 - val_loss: 0.6783 - val_accuracy: 0.5667\n",
      "Epoch 16/25\n",
      "18/18 [==============================] - 1s 33ms/step - loss: 0.6205 - accuracy: 0.6944 - val_loss: 0.6680 - val_accuracy: 0.6333\n",
      "Epoch 17/25\n",
      "18/18 [==============================] - 1s 34ms/step - loss: 0.5962 - accuracy: 0.7639 - val_loss: 0.6951 - val_accuracy: 0.4333\n",
      "Epoch 18/25\n",
      "18/18 [==============================] - 1s 33ms/step - loss: 0.5726 - accuracy: 0.7917 - val_loss: 0.6534 - val_accuracy: 0.5333\n",
      "Epoch 19/25\n",
      "18/18 [==============================] - 1s 33ms/step - loss: 0.5495 - accuracy: 0.7500 - val_loss: 0.6761 - val_accuracy: 0.5667\n",
      "Epoch 20/25\n",
      "18/18 [==============================] - 1s 33ms/step - loss: 0.5736 - accuracy: 0.7083 - val_loss: 0.6916 - val_accuracy: 0.4667\n",
      "Epoch 21/25\n",
      "18/18 [==============================] - 1s 36ms/step - loss: 0.5045 - accuracy: 0.8472 - val_loss: 0.6580 - val_accuracy: 0.5667\n",
      "Epoch 22/25\n",
      "18/18 [==============================] - 1s 33ms/step - loss: 0.4709 - accuracy: 0.7917 - val_loss: 0.7091 - val_accuracy: 0.6667\n",
      "Epoch 23/25\n",
      "18/18 [==============================] - 1s 35ms/step - loss: 0.4644 - accuracy: 0.7639 - val_loss: 0.6891 - val_accuracy: 0.5333\n",
      "Epoch 24/25\n",
      "18/18 [==============================] - 1s 33ms/step - loss: 0.3679 - accuracy: 0.9028 - val_loss: 0.7094 - val_accuracy: 0.6667\n",
      "Epoch 25/25\n",
      "18/18 [==============================] - 1s 34ms/step - loss: 0.3576 - accuracy: 0.8889 - val_loss: 0.7025 - val_accuracy: 0.5667\n"
     ]
    },
    {
     "data": {
      "text/plain": [
       "<keras.callbacks.History at 0x2512c950f70>"
      ]
     },
     "execution_count": 62,
     "metadata": {},
     "output_type": "execute_result"
    }
   ],
   "source": [
    "cnn.fit(x = train_set, validation_data = test_set, epochs = 25)"
   ]
  },
  {
   "cell_type": "code",
   "execution_count": 71,
   "metadata": {},
   "outputs": [],
   "source": [
    "import numpy as np\n",
    "from keras.preprocessing import image\n",
    "# test_image = image.load_img('dataset/test/healthy/V01HE01.png',target_size=(32,32))\n",
    "# test_image = image.load_img('dataset/test/parkinson/V05PE01.png',target_size=(32,32))\n",
    "test_image = image.load_img('dataset/check/3.png',target_size=(32,32))\n",
    "test_image = image.img_to_array(test_image)\n",
    "test_image.resize(32,32,1)\n",
    "test_image = np.expand_dims(test_image,axis=0) # as we are training the CNN in batch size of 32 it cant train on single data so adding a fake dimension\n",
    "result = cnn.predict(test_image)\n",
    "train_set.class_indices\n",
    "if result[0][0] == 1 :\n",
    "  prediction = 'parkinson'\n",
    "else :\n",
    "  prediction = 'healthy'  "
   ]
  },
  {
   "cell_type": "code",
   "execution_count": 72,
   "metadata": {},
   "outputs": [
    {
     "name": "stdout",
     "output_type": "stream",
     "text": [
      "healthy\n"
     ]
    }
   ],
   "source": [
    "print(prediction)"
   ]
  }
 ],
 "metadata": {
  "interpreter": {
   "hash": "d7602c64593e20ddadd803d2e46bd1fa4feb24a139e799d735b7c207759ccf86"
  },
  "kernelspec": {
   "display_name": "Python 3.9.7 ('computervision')",
   "language": "python",
   "name": "python3"
  },
  "language_info": {
   "codemirror_mode": {
    "name": "ipython",
    "version": 3
   },
   "file_extension": ".py",
   "mimetype": "text/x-python",
   "name": "python",
   "nbconvert_exporter": "python",
   "pygments_lexer": "ipython3",
   "version": "3.9.7"
  },
  "orig_nbformat": 4
 },
 "nbformat": 4,
 "nbformat_minor": 2
}
