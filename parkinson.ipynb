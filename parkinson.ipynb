{
 "cells": [
  {
   "cell_type": "code",
   "execution_count": 16,
   "metadata": {},
   "outputs": [],
   "source": [
    "import tensorflow as tf\n",
    "from keras.preprocessing.image import ImageDataGenerator"
   ]
  },
  {
   "cell_type": "code",
   "execution_count": 17,
   "metadata": {},
   "outputs": [
    {
     "data": {
      "text/plain": [
       "'2.8.0'"
      ]
     },
     "execution_count": 17,
     "metadata": {},
     "output_type": "execute_result"
    }
   ],
   "source": [
    "tf.__version__"
   ]
  },
  {
   "cell_type": "code",
   "execution_count": 18,
   "metadata": {},
   "outputs": [
    {
     "name": "stdout",
     "output_type": "stream",
     "text": [
      "Found 72 images belonging to 2 classes.\n"
     ]
    }
   ],
   "source": [
    "train_datagen = ImageDataGenerator(rescale=1./255,\n",
    "                                      shear_range=0.2, \n",
    "                                        zoom_range=0.2,\n",
    "                                        horizontal_flip=True)\n",
    "train_set = train_datagen.flow_from_directory(\n",
    "        'dataset/train',\n",
    "        target_size = (32,32),\n",
    "        color_mode=\"grayscale\",\n",
    "        batch_size=4,\n",
    "        class_mode='binary'\n",
    "        )                                        "
   ]
  },
  {
   "cell_type": "code",
   "execution_count": 19,
   "metadata": {},
   "outputs": [
    {
     "name": "stdout",
     "output_type": "stream",
     "text": [
      "Found 30 images belonging to 2 classes.\n"
     ]
    }
   ],
   "source": [
    "test_datagen = ImageDataGenerator(rescale=1./255)\n",
    "test_set = test_datagen.flow_from_directory(\n",
    "        'dataset/test',\n",
    "        target_size=(32,32),\n",
    "        batch_size=4,\n",
    "        color_mode=\"grayscale\",\n",
    "        class_mode='binary')"
   ]
  },
  {
   "cell_type": "code",
   "execution_count": 20,
   "metadata": {},
   "outputs": [],
   "source": [
    "cnn = tf.keras.models.Sequential()"
   ]
  },
  {
   "cell_type": "code",
   "execution_count": 21,
   "metadata": {},
   "outputs": [],
   "source": [
    "cnn.add(tf.keras.layers.Conv2D(filters=64,kernel_size=5,activation=\"elu\",input_shape=[32,32,1]))"
   ]
  },
  {
   "cell_type": "code",
   "execution_count": 22,
   "metadata": {},
   "outputs": [],
   "source": [
    "cnn.add(tf.keras.layers.MaxPool2D(pool_size=2,strides=2))"
   ]
  },
  {
   "cell_type": "code",
   "execution_count": 23,
   "metadata": {},
   "outputs": [],
   "source": [
    "cnn.add(tf.keras.layers.Conv2D(filters=64,kernel_size=5,activation=\"elu\"))\n",
    "cnn.add(tf.keras.layers.MaxPool2D(pool_size=2,strides=2))"
   ]
  },
  {
   "cell_type": "code",
   "execution_count": 24,
   "metadata": {},
   "outputs": [],
   "source": [
    "cnn.add(tf.keras.layers.Flatten())"
   ]
  },
  {
   "cell_type": "code",
   "execution_count": 25,
   "metadata": {},
   "outputs": [],
   "source": [
    "cnn.add(tf.keras.layers.Dense(units=128,activation=\"elu\"))"
   ]
  },
  {
   "cell_type": "code",
   "execution_count": 26,
   "metadata": {},
   "outputs": [],
   "source": [
    "cnn.add(tf.keras.layers.Dense(units=1, activation='sigmoid'))"
   ]
  },
  {
   "cell_type": "code",
   "execution_count": 27,
   "metadata": {},
   "outputs": [],
   "source": [
    "cnn.compile(optimizer = 'adam', loss = 'binary_crossentropy', metrics = ['accuracy'])"
   ]
  },
  {
   "cell_type": "code",
   "execution_count": 31,
   "metadata": {},
   "outputs": [
    {
     "name": "stdout",
     "output_type": "stream",
     "text": [
      "Epoch 1/25\n",
      "18/18 [==============================] - 1s 34ms/step - loss: 0.0079 - accuracy: 1.0000 - val_loss: 1.5709 - val_accuracy: 0.5333\n",
      "Epoch 2/25\n",
      "18/18 [==============================] - 1s 31ms/step - loss: 0.0305 - accuracy: 0.9861 - val_loss: 1.5520 - val_accuracy: 0.7000\n",
      "Epoch 3/25\n",
      "18/18 [==============================] - 1s 29ms/step - loss: 0.0418 - accuracy: 0.9722 - val_loss: 1.3184 - val_accuracy: 0.5000\n",
      "Epoch 4/25\n",
      "18/18 [==============================] - 1s 30ms/step - loss: 0.0231 - accuracy: 0.9861 - val_loss: 1.8132 - val_accuracy: 0.5333\n",
      "Epoch 5/25\n",
      "18/18 [==============================] - 1s 30ms/step - loss: 0.0071 - accuracy: 1.0000 - val_loss: 1.7705 - val_accuracy: 0.5667\n",
      "Epoch 6/25\n",
      "18/18 [==============================] - 1s 31ms/step - loss: 0.0106 - accuracy: 1.0000 - val_loss: 1.7347 - val_accuracy: 0.5333\n",
      "Epoch 7/25\n",
      "18/18 [==============================] - 1s 29ms/step - loss: 0.0024 - accuracy: 1.0000 - val_loss: 1.7295 - val_accuracy: 0.5667\n",
      "Epoch 8/25\n",
      "18/18 [==============================] - 1s 30ms/step - loss: 0.0366 - accuracy: 0.9861 - val_loss: 1.6862 - val_accuracy: 0.5333\n",
      "Epoch 9/25\n",
      "18/18 [==============================] - 1s 29ms/step - loss: 0.0102 - accuracy: 1.0000 - val_loss: 1.6372 - val_accuracy: 0.6333\n",
      "Epoch 10/25\n",
      "18/18 [==============================] - 1s 36ms/step - loss: 0.0112 - accuracy: 1.0000 - val_loss: 1.6698 - val_accuracy: 0.6000\n",
      "Epoch 11/25\n",
      "18/18 [==============================] - 1s 29ms/step - loss: 0.0224 - accuracy: 0.9861 - val_loss: 1.6640 - val_accuracy: 0.5333\n",
      "Epoch 12/25\n",
      "18/18 [==============================] - 1s 30ms/step - loss: 0.0286 - accuracy: 0.9861 - val_loss: 2.1854 - val_accuracy: 0.5333\n",
      "Epoch 13/25\n",
      "18/18 [==============================] - 1s 30ms/step - loss: 0.0876 - accuracy: 0.9444 - val_loss: 3.4673 - val_accuracy: 0.5333\n",
      "Epoch 14/25\n",
      "18/18 [==============================] - 1s 30ms/step - loss: 0.2839 - accuracy: 0.9444 - val_loss: 3.3736 - val_accuracy: 0.6000\n",
      "Epoch 15/25\n",
      "18/18 [==============================] - 1s 30ms/step - loss: 0.4144 - accuracy: 0.8611 - val_loss: 6.5015 - val_accuracy: 0.5000\n",
      "Epoch 16/25\n",
      "18/18 [==============================] - 1s 30ms/step - loss: 0.5376 - accuracy: 0.8750 - val_loss: 4.8674 - val_accuracy: 0.5000\n",
      "Epoch 17/25\n",
      "18/18 [==============================] - 1s 30ms/step - loss: 0.2979 - accuracy: 0.9306 - val_loss: 5.0303 - val_accuracy: 0.5333\n",
      "Epoch 18/25\n",
      "18/18 [==============================] - 1s 28ms/step - loss: 0.1773 - accuracy: 0.9583 - val_loss: 1.7251 - val_accuracy: 0.5667\n",
      "Epoch 19/25\n",
      "18/18 [==============================] - 1s 31ms/step - loss: 0.0652 - accuracy: 0.9583 - val_loss: 2.1226 - val_accuracy: 0.5667\n",
      "Epoch 20/25\n",
      "18/18 [==============================] - 1s 35ms/step - loss: 0.0242 - accuracy: 1.0000 - val_loss: 2.3815 - val_accuracy: 0.6000\n",
      "Epoch 21/25\n",
      "18/18 [==============================] - 1s 29ms/step - loss: 0.0105 - accuracy: 1.0000 - val_loss: 2.3750 - val_accuracy: 0.5333\n",
      "Epoch 22/25\n",
      "18/18 [==============================] - 1s 29ms/step - loss: 0.0199 - accuracy: 1.0000 - val_loss: 2.3649 - val_accuracy: 0.5667\n",
      "Epoch 23/25\n",
      "18/18 [==============================] - 1s 31ms/step - loss: 0.0814 - accuracy: 0.9583 - val_loss: 2.3429 - val_accuracy: 0.5667\n",
      "Epoch 24/25\n",
      "18/18 [==============================] - 1s 32ms/step - loss: 0.0201 - accuracy: 1.0000 - val_loss: 2.6571 - val_accuracy: 0.5667\n",
      "Epoch 25/25\n",
      "18/18 [==============================] - 1s 30ms/step - loss: 0.0150 - accuracy: 1.0000 - val_loss: 2.1911 - val_accuracy: 0.5667\n"
     ]
    },
    {
     "ename": "TypeError",
     "evalue": "__init__() got an unexpected keyword argument 'base_criterion'",
     "output_type": "error",
     "traceback": [
      "\u001b[1;31m---------------------------------------------------------------------------\u001b[0m",
      "\u001b[1;31mTypeError\u001b[0m                                 Traceback (most recent call last)",
      "\u001b[1;32m~\\AppData\\Local\\Temp/ipykernel_5124/2214979669.py\u001b[0m in \u001b[0;36m<module>\u001b[1;34m\u001b[0m\n\u001b[0;32m      1\u001b[0m \u001b[0mcnn\u001b[0m\u001b[1;33m.\u001b[0m\u001b[0mfit\u001b[0m\u001b[1;33m(\u001b[0m\u001b[0mx\u001b[0m \u001b[1;33m=\u001b[0m \u001b[0mtrain_set\u001b[0m\u001b[1;33m,\u001b[0m \u001b[0mvalidation_data\u001b[0m \u001b[1;33m=\u001b[0m \u001b[0mtest_set\u001b[0m\u001b[1;33m,\u001b[0m \u001b[0mepochs\u001b[0m \u001b[1;33m=\u001b[0m \u001b[1;36m25\u001b[0m\u001b[1;33m)\u001b[0m\u001b[1;33m\u001b[0m\u001b[1;33m\u001b[0m\u001b[0m\n\u001b[0;32m      2\u001b[0m \u001b[1;32mfrom\u001b[0m \u001b[0msklearn\u001b[0m\u001b[1;33m.\u001b[0m\u001b[0mensemble\u001b[0m \u001b[1;32mimport\u001b[0m \u001b[0mAdaBoostClassifier\u001b[0m\u001b[1;33m\u001b[0m\u001b[1;33m\u001b[0m\u001b[0m\n\u001b[1;32m----> 3\u001b[1;33m \u001b[0mAdaboost\u001b[0m \u001b[1;33m=\u001b[0m \u001b[0mAdaBoostClassifier\u001b[0m\u001b[1;33m(\u001b[0m\u001b[0mbase_criterion\u001b[0m \u001b[1;33m=\u001b[0m \u001b[0mcnn\u001b[0m\u001b[1;33m,\u001b[0m\u001b[0mn_estimators\u001b[0m\u001b[1;33m=\u001b[0m\u001b[1;36m200\u001b[0m\u001b[1;33m,\u001b[0m \u001b[0mlearning_rate\u001b[0m\u001b[1;33m=\u001b[0m\u001b[1;36m1\u001b[0m\u001b[1;33m)\u001b[0m\u001b[1;33m\u001b[0m\u001b[1;33m\u001b[0m\u001b[0m\n\u001b[0m\u001b[0;32m      4\u001b[0m \u001b[0mcnn\u001b[0m \u001b[1;33m=\u001b[0m \u001b[0mAdaboost\u001b[0m\u001b[1;33m.\u001b[0m\u001b[0mfit\u001b[0m\u001b[1;33m(\u001b[0m\u001b[0mcnn\u001b[0m\u001b[1;33m)\u001b[0m\u001b[1;33m\u001b[0m\u001b[1;33m\u001b[0m\u001b[0m\n",
      "\u001b[1;32m~\\anaconda3\\lib\\site-packages\\sklearn\\utils\\validation.py\u001b[0m in \u001b[0;36minner_f\u001b[1;34m(*args, **kwargs)\u001b[0m\n\u001b[0;32m     61\u001b[0m             \u001b[0mextra_args\u001b[0m \u001b[1;33m=\u001b[0m \u001b[0mlen\u001b[0m\u001b[1;33m(\u001b[0m\u001b[0margs\u001b[0m\u001b[1;33m)\u001b[0m \u001b[1;33m-\u001b[0m \u001b[0mlen\u001b[0m\u001b[1;33m(\u001b[0m\u001b[0mall_args\u001b[0m\u001b[1;33m)\u001b[0m\u001b[1;33m\u001b[0m\u001b[1;33m\u001b[0m\u001b[0m\n\u001b[0;32m     62\u001b[0m             \u001b[1;32mif\u001b[0m \u001b[0mextra_args\u001b[0m \u001b[1;33m<=\u001b[0m \u001b[1;36m0\u001b[0m\u001b[1;33m:\u001b[0m\u001b[1;33m\u001b[0m\u001b[1;33m\u001b[0m\u001b[0m\n\u001b[1;32m---> 63\u001b[1;33m                 \u001b[1;32mreturn\u001b[0m \u001b[0mf\u001b[0m\u001b[1;33m(\u001b[0m\u001b[1;33m*\u001b[0m\u001b[0margs\u001b[0m\u001b[1;33m,\u001b[0m \u001b[1;33m**\u001b[0m\u001b[0mkwargs\u001b[0m\u001b[1;33m)\u001b[0m\u001b[1;33m\u001b[0m\u001b[1;33m\u001b[0m\u001b[0m\n\u001b[0m\u001b[0;32m     64\u001b[0m \u001b[1;33m\u001b[0m\u001b[0m\n\u001b[0;32m     65\u001b[0m             \u001b[1;31m# extra_args > 0\u001b[0m\u001b[1;33m\u001b[0m\u001b[1;33m\u001b[0m\u001b[0m\n",
      "\u001b[1;31mTypeError\u001b[0m: __init__() got an unexpected keyword argument 'base_criterion'"
     ]
    }
   ],
   "source": [
    "cnn.fit(x = train_set, validation_data = test_set, epochs = 25)\n",
    "from sklearn.ensemble import AdaBoostClassifier\n",
    "Adaboost = AdaBoostClassifier(base_criterion = cnn,n_estimators=200, learning_rate=1)\n",
    "cnn = Adaboost.fit(cnn)"
   ]
  },
  {
   "cell_type": "code",
   "execution_count": null,
   "metadata": {},
   "outputs": [],
   "source": [
    "import numpy as np\n",
    "from keras.preprocessing import image\n",
    "# test_image = image.load_img('dataset/test/healthy/V01HE01.png',target_size=(32,32))\n",
    "# test_image = image.load_img('dataset/test/parkinson/V05PE01.png',target_size=(32,32))\n",
    "test_image = image.load_img('dataset/check/3.png',target_size=(32,32))\n",
    "test_image = image.img_to_array(test_image)\n",
    "test_image.resize(32,32,1)\n",
    "test_image = np.expand_dims(test_image,axis=0) # as we are training the CNN in batch size of 32 it cant train on single data so adding a fake dimension\n",
    "result = a.predict(test_image)\n",
    "train_set.class_indices\n",
    "if result[0][0] == 1 :\n",
    "  prediction = 'parkinson'\n",
    "else :\n",
    "  prediction = 'healthy'  "
   ]
  },
  {
   "cell_type": "code",
   "execution_count": null,
   "metadata": {},
   "outputs": [
    {
     "name": "stdout",
     "output_type": "stream",
     "text": [
      "healthy\n"
     ]
    }
   ],
   "source": [
    "print(prediction)"
   ]
  }
 ],
 "metadata": {
  "interpreter": {
   "hash": "d7602c64593e20ddadd803d2e46bd1fa4feb24a139e799d735b7c207759ccf86"
  },
  "kernelspec": {
   "display_name": "Python 3.9.7 ('computervision')",
   "language": "python",
   "name": "python3"
  },
  "language_info": {
   "codemirror_mode": {
    "name": "ipython",
    "version": 3
   },
   "file_extension": ".py",
   "mimetype": "text/x-python",
   "name": "python",
   "nbconvert_exporter": "python",
   "pygments_lexer": "ipython3",
   "version": "3.9.7"
  },
  "orig_nbformat": 4
 },
 "nbformat": 4,
 "nbformat_minor": 2
}
