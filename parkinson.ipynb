{
 "cells": [
  {
   "cell_type": "code",
   "execution_count": 337,
   "metadata": {},
   "outputs": [],
   "source": [
    "import tensorflow as tf\n",
    "from keras.preprocessing.image import ImageDataGenerator"
   ]
  },
  {
   "cell_type": "code",
   "execution_count": 338,
   "metadata": {},
   "outputs": [
    {
     "data": {
      "text/plain": [
       "'2.8.0'"
      ]
     },
     "execution_count": 338,
     "metadata": {},
     "output_type": "execute_result"
    }
   ],
   "source": [
    "tf.__version__"
   ]
  },
  {
   "cell_type": "code",
   "execution_count": 339,
   "metadata": {},
   "outputs": [
    {
     "name": "stdout",
     "output_type": "stream",
     "text": [
      "Found 72 images belonging to 2 classes.\n"
     ]
    }
   ],
   "source": [
    "train_datagen = ImageDataGenerator(rescale=1./255,\n",
    "                                      shear_range=0.2, \n",
    "                                        zoom_range=0.2,\n",
    "                                        horizontal_flip=True)\n",
    "train_set = train_datagen.flow_from_directory(\n",
    "        'dataset/train',\n",
    "        target_size = (32,32),\n",
    "        color_mode=\"grayscale\",\n",
    "        batch_size=10,\n",
    "        class_mode='binary'\n",
    "        )                                        "
   ]
  },
  {
   "cell_type": "code",
   "execution_count": 340,
   "metadata": {},
   "outputs": [
    {
     "name": "stdout",
     "output_type": "stream",
     "text": [
      "Found 30 images belonging to 2 classes.\n"
     ]
    }
   ],
   "source": [
    "test_datagen = ImageDataGenerator(rescale=1./255)\n",
    "test_set = test_datagen.flow_from_directory(\n",
    "        'dataset/test',\n",
    "        target_size=(32,32),\n",
    "        batch_size=10,\n",
    "        color_mode=\"grayscale\",\n",
    "        class_mode='binary')"
   ]
  },
  {
   "cell_type": "code",
   "execution_count": 341,
   "metadata": {},
   "outputs": [],
   "source": [
    "cnn = tf.keras.models.Sequential()"
   ]
  },
  {
   "cell_type": "code",
   "execution_count": 342,
   "metadata": {},
   "outputs": [],
   "source": [
    "cnn.add(tf.keras.layers.Conv2D(filters=64,kernel_size=5,activation=\"elu\",input_shape=[32,32,1]))"
   ]
  },
  {
   "cell_type": "code",
   "execution_count": 343,
   "metadata": {},
   "outputs": [],
   "source": [
    "cnn.add(tf.keras.layers.MaxPool2D(pool_size=2,strides=2))"
   ]
  },
  {
   "cell_type": "code",
   "execution_count": 344,
   "metadata": {},
   "outputs": [],
   "source": [
    "cnn.add(tf.keras.layers.Conv2D(filters=64,kernel_size=5,activation=\"elu\"))\n",
    "cnn.add(tf.keras.layers.MaxPool2D(pool_size=2,strides=2))"
   ]
  },
  {
   "cell_type": "code",
   "execution_count": 345,
   "metadata": {},
   "outputs": [],
   "source": [
    "cnn.add(tf.keras.layers.Flatten())"
   ]
  },
  {
   "cell_type": "code",
   "execution_count": 346,
   "metadata": {},
   "outputs": [],
   "source": [
    "cnn.add(tf.keras.layers.Dense(units=128,activation=\"elu\"))"
   ]
  },
  {
   "cell_type": "code",
   "execution_count": 347,
   "metadata": {},
   "outputs": [],
   "source": [
    "cnn.add(tf.keras.layers.Dense(units=1, activation='sigmoid'))"
   ]
  },
  {
   "cell_type": "code",
   "execution_count": 348,
   "metadata": {},
   "outputs": [],
   "source": [
    "cnn.compile(optimizer = 'adam', loss = 'binary_crossentropy', metrics = ['accuracy'])"
   ]
  },
  {
   "cell_type": "code",
   "execution_count": 349,
   "metadata": {},
   "outputs": [
    {
     "name": "stdout",
     "output_type": "stream",
     "text": [
      "Epoch 1/25\n",
      "8/8 [==============================] - 2s 108ms/step - loss: 1.3358 - accuracy: 0.5000 - val_loss: 0.7029 - val_accuracy: 0.5000\n",
      "Epoch 2/25\n",
      "8/8 [==============================] - 1s 79ms/step - loss: 0.7548 - accuracy: 0.5000 - val_loss: 0.7982 - val_accuracy: 0.5000\n",
      "Epoch 3/25\n",
      "8/8 [==============================] - 1s 71ms/step - loss: 0.7257 - accuracy: 0.4583 - val_loss: 0.6968 - val_accuracy: 0.5000\n",
      "Epoch 4/25\n",
      "8/8 [==============================] - 1s 76ms/step - loss: 0.6983 - accuracy: 0.5000 - val_loss: 0.6950 - val_accuracy: 0.5000\n",
      "Epoch 5/25\n",
      "8/8 [==============================] - 1s 79ms/step - loss: 0.6908 - accuracy: 0.5972 - val_loss: 0.6940 - val_accuracy: 0.5000\n",
      "Epoch 6/25\n",
      "8/8 [==============================] - 1s 73ms/step - loss: 0.6957 - accuracy: 0.4722 - val_loss: 0.6945 - val_accuracy: 0.5000\n",
      "Epoch 7/25\n",
      "8/8 [==============================] - 1s 69ms/step - loss: 0.6884 - accuracy: 0.5556 - val_loss: 0.6953 - val_accuracy: 0.5000\n",
      "Epoch 8/25\n",
      "8/8 [==============================] - 1s 72ms/step - loss: 0.6878 - accuracy: 0.5139 - val_loss: 0.6933 - val_accuracy: 0.5000\n",
      "Epoch 9/25\n",
      "8/8 [==============================] - 1s 79ms/step - loss: 0.6866 - accuracy: 0.5000 - val_loss: 0.6926 - val_accuracy: 0.5000\n",
      "Epoch 10/25\n",
      "8/8 [==============================] - 1s 68ms/step - loss: 0.6816 - accuracy: 0.5972 - val_loss: 0.6894 - val_accuracy: 0.6333\n",
      "Epoch 11/25\n",
      "8/8 [==============================] - 1s 81ms/step - loss: 0.6803 - accuracy: 0.7361 - val_loss: 0.6864 - val_accuracy: 0.6000\n",
      "Epoch 12/25\n",
      "8/8 [==============================] - 1s 98ms/step - loss: 0.6749 - accuracy: 0.7361 - val_loss: 0.6867 - val_accuracy: 0.5000\n",
      "Epoch 13/25\n",
      "8/8 [==============================] - 1s 71ms/step - loss: 0.6741 - accuracy: 0.5278 - val_loss: 0.6892 - val_accuracy: 0.5000\n",
      "Epoch 14/25\n",
      "8/8 [==============================] - 1s 68ms/step - loss: 0.6661 - accuracy: 0.7222 - val_loss: 0.6963 - val_accuracy: 0.4667\n",
      "Epoch 15/25\n",
      "8/8 [==============================] - 1s 73ms/step - loss: 0.6645 - accuracy: 0.6667 - val_loss: 0.6964 - val_accuracy: 0.5333\n",
      "Epoch 16/25\n",
      "8/8 [==============================] - 1s 68ms/step - loss: 0.6917 - accuracy: 0.5278 - val_loss: 0.6872 - val_accuracy: 0.5000\n",
      "Epoch 17/25\n",
      "8/8 [==============================] - 1s 67ms/step - loss: 0.6600 - accuracy: 0.6389 - val_loss: 0.6768 - val_accuracy: 0.6667\n",
      "Epoch 18/25\n",
      "8/8 [==============================] - 1s 69ms/step - loss: 0.6670 - accuracy: 0.5556 - val_loss: 0.7010 - val_accuracy: 0.5000\n",
      "Epoch 19/25\n",
      "8/8 [==============================] - 1s 64ms/step - loss: 0.6684 - accuracy: 0.5694 - val_loss: 0.6962 - val_accuracy: 0.4667\n",
      "Epoch 20/25\n",
      "8/8 [==============================] - 1s 66ms/step - loss: 0.6347 - accuracy: 0.5833 - val_loss: 0.6686 - val_accuracy: 0.5000\n",
      "Epoch 21/25\n",
      "8/8 [==============================] - 1s 65ms/step - loss: 0.6108 - accuracy: 0.6944 - val_loss: 0.7551 - val_accuracy: 0.5000\n",
      "Epoch 22/25\n",
      "8/8 [==============================] - 1s 64ms/step - loss: 0.6387 - accuracy: 0.6111 - val_loss: 0.6674 - val_accuracy: 0.5000\n",
      "Epoch 23/25\n",
      "8/8 [==============================] - 1s 67ms/step - loss: 0.6530 - accuracy: 0.5833 - val_loss: 0.6816 - val_accuracy: 0.5333\n",
      "Epoch 24/25\n",
      "8/8 [==============================] - 1s 70ms/step - loss: 0.5771 - accuracy: 0.8194 - val_loss: 0.6546 - val_accuracy: 0.6000\n",
      "Epoch 25/25\n",
      "8/8 [==============================] - 1s 63ms/step - loss: 0.5873 - accuracy: 0.7639 - val_loss: 0.6497 - val_accuracy: 0.6000\n"
     ]
    },
    {
     "data": {
      "text/plain": [
       "<keras.callbacks.History at 0x1f540855460>"
      ]
     },
     "execution_count": 349,
     "metadata": {},
     "output_type": "execute_result"
    }
   ],
   "source": [
    "cnn.fit(x = train_set, validation_data = test_set, epochs = 25)"
   ]
  },
  {
   "cell_type": "code",
   "execution_count": 356,
   "metadata": {},
   "outputs": [],
   "source": [
    "import numpy as np\n",
    "from keras.preprocessing import image\n",
    "# test_image = image.load_img('dataset/test/healthy/V01HE01.png',target_size=(32,32))\n",
    "test_image = image.load_img('dataset/test/parkinson/V05PE01.png',target_size=(32,32))\n",
    "test_image = image.img_to_array(test_image)\n",
    "test_image.resize(32,32,1)\n",
    "test_image = np.expand_dims(test_image,axis=0) # as we are training the CNN in batch size of 32 it cant train on single data so adding a fake dimension\n",
    "result = cnn.predict(test_image)\n",
    "train_set.class_indices\n",
    "if result[0][0] == 1 :\n",
    "  prediction = 'parkinson'\n",
    "else :\n",
    "  prediction = 'healthy'  "
   ]
  },
  {
   "cell_type": "code",
   "execution_count": 357,
   "metadata": {},
   "outputs": [
    {
     "name": "stdout",
     "output_type": "stream",
     "text": [
      "parkinson\n"
     ]
    }
   ],
   "source": [
    "print(prediction)"
   ]
  }
 ],
 "metadata": {
  "interpreter": {
   "hash": "d7602c64593e20ddadd803d2e46bd1fa4feb24a139e799d735b7c207759ccf86"
  },
  "kernelspec": {
   "display_name": "Python 3.9.7 ('computervision')",
   "language": "python",
   "name": "python3"
  },
  "language_info": {
   "codemirror_mode": {
    "name": "ipython",
    "version": 3
   },
   "file_extension": ".py",
   "mimetype": "text/x-python",
   "name": "python",
   "nbconvert_exporter": "python",
   "pygments_lexer": "ipython3",
   "version": "3.9.7"
  },
  "orig_nbformat": 4
 },
 "nbformat": 4,
 "nbformat_minor": 2
}
