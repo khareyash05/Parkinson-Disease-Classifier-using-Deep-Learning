{
 "cells": [
  {
   "cell_type": "code",
   "execution_count": 1,
   "metadata": {},
   "outputs": [],
   "source": [
    "import tensorflow as tf\n",
    "from keras.preprocessing.image import ImageDataGenerator"
   ]
  },
  {
   "cell_type": "code",
   "execution_count": 2,
   "metadata": {},
   "outputs": [
    {
     "data": {
      "text/plain": [
       "'2.8.0'"
      ]
     },
     "execution_count": 2,
     "metadata": {},
     "output_type": "execute_result"
    }
   ],
   "source": [
    "tf.__version__"
   ]
  },
  {
   "cell_type": "code",
   "execution_count": 3,
   "metadata": {},
   "outputs": [
    {
     "name": "stdout",
     "output_type": "stream",
     "text": [
      "Found 72 images belonging to 2 classes.\n"
     ]
    }
   ],
   "source": [
    "train_datagen = ImageDataGenerator(rescale=1./255,\n",
    "                                      shear_range=0.2, \n",
    "                                        zoom_range=0.2,\n",
    "                                        horizontal_flip=True)\n",
    "train_set = train_datagen.flow_from_directory(\n",
    "        'dataset/train',\n",
    "        target_size = (32,32),\n",
    "        color_mode=\"grayscale\",\n",
    "        batch_size=4,\n",
    "        class_mode='binary'\n",
    "        )                                        "
   ]
  },
  {
   "cell_type": "code",
   "execution_count": 4,
   "metadata": {},
   "outputs": [
    {
     "name": "stdout",
     "output_type": "stream",
     "text": [
      "Found 30 images belonging to 2 classes.\n"
     ]
    }
   ],
   "source": [
    "test_datagen = ImageDataGenerator(rescale=1./255)\n",
    "test_set = test_datagen.flow_from_directory(\n",
    "        'dataset/test',\n",
    "        target_size=(32,32),\n",
    "        batch_size=4,\n",
    "        color_mode=\"grayscale\",\n",
    "        class_mode='binary')"
   ]
  },
  {
   "cell_type": "code",
   "execution_count": 5,
   "metadata": {},
   "outputs": [],
   "source": [
    "cnn = tf.keras.models.Sequential()"
   ]
  },
  {
   "cell_type": "code",
   "execution_count": 6,
   "metadata": {},
   "outputs": [],
   "source": [
    "cnn.add(tf.keras.layers.Conv2D(filters=64,kernel_size=5,activation=\"elu\",input_shape=[32,32,1]))"
   ]
  },
  {
   "cell_type": "code",
   "execution_count": 7,
   "metadata": {},
   "outputs": [],
   "source": [
    "cnn.add(tf.keras.layers.MaxPool2D(pool_size=2,strides=2))"
   ]
  },
  {
   "cell_type": "code",
   "execution_count": 8,
   "metadata": {},
   "outputs": [],
   "source": [
    "cnn.add(tf.keras.layers.Conv2D(filters=64,kernel_size=5,activation=\"elu\"))\n",
    "cnn.add(tf.keras.layers.MaxPool2D(pool_size=2,strides=2))"
   ]
  },
  {
   "cell_type": "code",
   "execution_count": 9,
   "metadata": {},
   "outputs": [],
   "source": [
    "cnn.add(tf.keras.layers.Flatten())"
   ]
  },
  {
   "cell_type": "code",
   "execution_count": 10,
   "metadata": {},
   "outputs": [],
   "source": [
    "cnn.add(tf.keras.layers.Dense(units=128,activation=\"elu\"))"
   ]
  },
  {
   "cell_type": "code",
   "execution_count": 11,
   "metadata": {},
   "outputs": [],
   "source": [
    "cnn.add(tf.keras.layers.Dense(units=1, activation='sigmoid'))"
   ]
  },
  {
   "cell_type": "code",
   "execution_count": 12,
   "metadata": {},
   "outputs": [],
   "source": [
    "cnn.compile(optimizer = 'adam', loss = 'binary_crossentropy', metrics = ['accuracy'])"
   ]
  },
  {
   "cell_type": "code",
   "execution_count": 14,
   "metadata": {},
   "outputs": [
    {
     "name": "stdout",
     "output_type": "stream",
     "text": [
      "Epoch 1/25\n",
      "18/18 [==============================] - 1s 34ms/step - loss: 0.4608 - accuracy: 0.8611 - val_loss: 0.7237 - val_accuracy: 0.5333\n",
      "Epoch 2/25\n",
      "18/18 [==============================] - 1s 30ms/step - loss: 0.4393 - accuracy: 0.7639 - val_loss: 0.7331 - val_accuracy: 0.4000\n",
      "Epoch 3/25\n",
      "18/18 [==============================] - 1s 31ms/step - loss: 0.3848 - accuracy: 0.8333 - val_loss: 0.7104 - val_accuracy: 0.4667\n",
      "Epoch 4/25\n",
      "18/18 [==============================] - 1s 30ms/step - loss: 0.3369 - accuracy: 0.9028 - val_loss: 0.6950 - val_accuracy: 0.4667\n",
      "Epoch 5/25\n",
      "18/18 [==============================] - 1s 32ms/step - loss: 0.3584 - accuracy: 0.8472 - val_loss: 0.9202 - val_accuracy: 0.5333\n",
      "Epoch 6/25\n",
      "18/18 [==============================] - 1s 31ms/step - loss: 0.3867 - accuracy: 0.8194 - val_loss: 0.6999 - val_accuracy: 0.6333\n",
      "Epoch 7/25\n",
      "18/18 [==============================] - 1s 35ms/step - loss: 0.3048 - accuracy: 0.8333 - val_loss: 0.7681 - val_accuracy: 0.5333\n",
      "Epoch 8/25\n",
      "18/18 [==============================] - 1s 29ms/step - loss: 0.4485 - accuracy: 0.8194 - val_loss: 0.8125 - val_accuracy: 0.4333\n",
      "Epoch 9/25\n",
      "18/18 [==============================] - 1s 30ms/step - loss: 0.3692 - accuracy: 0.8333 - val_loss: 0.7469 - val_accuracy: 0.5667\n",
      "Epoch 10/25\n",
      "18/18 [==============================] - 1s 30ms/step - loss: 0.3126 - accuracy: 0.9028 - val_loss: 0.8908 - val_accuracy: 0.5667\n",
      "Epoch 11/25\n",
      "18/18 [==============================] - 1s 29ms/step - loss: 0.2516 - accuracy: 0.9167 - val_loss: 0.6834 - val_accuracy: 0.5667\n",
      "Epoch 12/25\n",
      "18/18 [==============================] - 1s 29ms/step - loss: 0.1919 - accuracy: 0.9444 - val_loss: 0.7482 - val_accuracy: 0.5333\n",
      "Epoch 13/25\n",
      "18/18 [==============================] - 1s 30ms/step - loss: 0.2415 - accuracy: 0.9306 - val_loss: 0.6697 - val_accuracy: 0.5333\n",
      "Epoch 14/25\n",
      "18/18 [==============================] - 1s 35ms/step - loss: 0.1928 - accuracy: 0.9444 - val_loss: 0.7813 - val_accuracy: 0.6333\n",
      "Epoch 15/25\n",
      "18/18 [==============================] - 1s 31ms/step - loss: 0.2063 - accuracy: 0.9167 - val_loss: 0.7398 - val_accuracy: 0.6000\n",
      "Epoch 16/25\n",
      "18/18 [==============================] - 1s 33ms/step - loss: 0.1838 - accuracy: 0.9583 - val_loss: 0.7353 - val_accuracy: 0.5000\n",
      "Epoch 17/25\n",
      "18/18 [==============================] - 1s 29ms/step - loss: 0.1662 - accuracy: 0.9444 - val_loss: 0.6903 - val_accuracy: 0.6333\n",
      "Epoch 18/25\n",
      "18/18 [==============================] - 1s 30ms/step - loss: 0.1655 - accuracy: 0.9306 - val_loss: 0.7288 - val_accuracy: 0.6000\n",
      "Epoch 19/25\n",
      "18/18 [==============================] - 1s 29ms/step - loss: 0.1658 - accuracy: 0.9583 - val_loss: 0.7314 - val_accuracy: 0.6000\n",
      "Epoch 20/25\n",
      "18/18 [==============================] - 1s 30ms/step - loss: 0.0918 - accuracy: 0.9861 - val_loss: 0.7878 - val_accuracy: 0.6667\n",
      "Epoch 21/25\n",
      "18/18 [==============================] - 1s 28ms/step - loss: 0.0996 - accuracy: 0.9722 - val_loss: 0.6761 - val_accuracy: 0.7000\n",
      "Epoch 22/25\n",
      "18/18 [==============================] - 1s 28ms/step - loss: 0.0881 - accuracy: 0.9722 - val_loss: 0.7619 - val_accuracy: 0.6667\n",
      "Epoch 23/25\n",
      "18/18 [==============================] - 1s 30ms/step - loss: 0.0679 - accuracy: 0.9722 - val_loss: 0.8633 - val_accuracy: 0.6667\n",
      "Epoch 24/25\n",
      "18/18 [==============================] - 1s 29ms/step - loss: 0.0852 - accuracy: 0.9722 - val_loss: 1.0280 - val_accuracy: 0.5667\n",
      "Epoch 25/25\n",
      "18/18 [==============================] - 1s 28ms/step - loss: 0.0795 - accuracy: 1.0000 - val_loss: 0.8517 - val_accuracy: 0.5667\n"
     ]
    },
    {
     "ename": "TypeError",
     "evalue": "fit() missing 1 required positional argument: 'y'",
     "output_type": "error",
     "traceback": [
      "\u001b[1;31m---------------------------------------------------------------------------\u001b[0m",
      "\u001b[1;31mTypeError\u001b[0m                                 Traceback (most recent call last)",
      "\u001b[1;32m~\\AppData\\Local\\Temp/ipykernel_8836/2985502443.py\u001b[0m in \u001b[0;36m<module>\u001b[1;34m\u001b[0m\n\u001b[0;32m      2\u001b[0m \u001b[1;32mfrom\u001b[0m \u001b[0msklearn\u001b[0m\u001b[1;33m.\u001b[0m\u001b[0mensemble\u001b[0m \u001b[1;32mimport\u001b[0m \u001b[0mAdaBoostClassifier\u001b[0m\u001b[1;33m\u001b[0m\u001b[1;33m\u001b[0m\u001b[0m\n\u001b[0;32m      3\u001b[0m \u001b[0mAdaboost\u001b[0m \u001b[1;33m=\u001b[0m \u001b[0mAdaBoostClassifier\u001b[0m\u001b[1;33m(\u001b[0m\u001b[0mcnn\u001b[0m\u001b[1;33m,\u001b[0m\u001b[0mn_estimators\u001b[0m\u001b[1;33m=\u001b[0m\u001b[1;36m100\u001b[0m\u001b[1;33m,\u001b[0m \u001b[0mlearning_rate\u001b[0m\u001b[1;33m=\u001b[0m\u001b[1;36m1\u001b[0m\u001b[1;33m)\u001b[0m\u001b[1;33m\u001b[0m\u001b[1;33m\u001b[0m\u001b[0m\n\u001b[1;32m----> 4\u001b[1;33m \u001b[0mcnn\u001b[0m \u001b[1;33m=\u001b[0m \u001b[0mAdaboost\u001b[0m\u001b[1;33m.\u001b[0m\u001b[0mfit\u001b[0m\u001b[1;33m(\u001b[0m\u001b[0mcnn\u001b[0m\u001b[1;33m)\u001b[0m\u001b[1;33m\u001b[0m\u001b[1;33m\u001b[0m\u001b[0m\n\u001b[0m",
      "\u001b[1;31mTypeError\u001b[0m: fit() missing 1 required positional argument: 'y'"
     ]
    }
   ],
   "source": [
    "cnn.fit(x = train_set, validation_data = test_set, epochs = 25)\n",
    "from sklearn.ensemble import AdaBoostClassifier\n",
    "Adaboost = AdaBoostClassifier(cnn,n_estimators=100, learning_rate=1)\n",
    "cnn = Adaboost.fit(cnn)"
   ]
  },
  {
   "cell_type": "code",
   "execution_count": null,
   "metadata": {},
   "outputs": [],
   "source": [
    "import numpy as np\n",
    "from keras.preprocessing import image\n",
    "# test_image = image.load_img('dataset/test/healthy/V01HE01.png',target_size=(32,32))\n",
    "# test_image = image.load_img('dataset/test/parkinson/V05PE01.png',target_size=(32,32))\n",
    "test_image = image.load_img('dataset/check/3.png',target_size=(32,32))\n",
    "test_image = image.img_to_array(test_image)\n",
    "test_image.resize(32,32,1)\n",
    "test_image = np.expand_dims(test_image,axis=0) # as we are training the CNN in batch size of 32 it cant train on single data so adding a fake dimension\n",
    "result = a.predict(test_image)\n",
    "train_set.class_indices\n",
    "if result[0][0] == 1 :\n",
    "  prediction = 'parkinson'\n",
    "else :\n",
    "  prediction = 'healthy'  "
   ]
  },
  {
   "cell_type": "code",
   "execution_count": null,
   "metadata": {},
   "outputs": [
    {
     "name": "stdout",
     "output_type": "stream",
     "text": [
      "healthy\n"
     ]
    }
   ],
   "source": [
    "print(prediction)"
   ]
  }
 ],
 "metadata": {
  "interpreter": {
   "hash": "d7602c64593e20ddadd803d2e46bd1fa4feb24a139e799d735b7c207759ccf86"
  },
  "kernelspec": {
   "display_name": "Python 3.9.7 ('computervision')",
   "language": "python",
   "name": "python3"
  },
  "language_info": {
   "codemirror_mode": {
    "name": "ipython",
    "version": 3
   },
   "file_extension": ".py",
   "mimetype": "text/x-python",
   "name": "python",
   "nbconvert_exporter": "python",
   "pygments_lexer": "ipython3",
   "version": "3.9.7"
  },
  "orig_nbformat": 4
 },
 "nbformat": 4,
 "nbformat_minor": 2
}
